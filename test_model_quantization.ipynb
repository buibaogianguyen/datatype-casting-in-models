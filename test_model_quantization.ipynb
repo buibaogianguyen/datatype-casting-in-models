{
 "cells": [
  {
   "cell_type": "code",
   "execution_count": 21,
   "id": "9aca5850",
   "metadata": {},
   "outputs": [],
   "source": [
    "from test_model import TestModel\n",
    "import torch\n",
    "\n",
    "torch.manual_seed(42)\n",
    "torch.cuda.manual_seed_all(42)\n",
    "\n",
    "model = TestModel()\n",
    "x = torch.randn(16, 2)"
   ]
  },
  {
   "cell_type": "code",
   "execution_count": 123,
   "id": "44fb17ec",
   "metadata": {},
   "outputs": [],
   "source": [
    "out_fp32 = model(x)"
   ]
  },
  {
   "cell_type": "code",
   "execution_count": 124,
   "id": "060eda5e",
   "metadata": {},
   "outputs": [],
   "source": [
    "def print_param_dtype(model):\n",
    "    for name, param in model.named_parameters():\n",
    "        print(f\"{name} is loaded in {param.dtype}\")"
   ]
  },
  {
   "cell_type": "code",
   "execution_count": 125,
   "id": "9d3f3458",
   "metadata": {},
   "outputs": [
    {
     "name": "stdout",
     "output_type": "stream",
     "text": [
      "torch.Size([16, 8])\n",
      "\n",
      "linear1.weight is loaded in torch.float32\n",
      "linear1.bias is loaded in torch.float32\n",
      "bn1.weight is loaded in torch.float32\n",
      "bn1.bias is loaded in torch.float32\n",
      "linear2.weight is loaded in torch.float32\n",
      "linear2.bias is loaded in torch.float32\n",
      "bn2.weight is loaded in torch.float32\n",
      "bn2.bias is loaded in torch.float32\n",
      "tensor([[5.6570e-01, 2.6057e-01, 6.0959e-02, 0.0000e+00, 0.0000e+00, 6.4186e-01,\n",
      "         1.0861e+00, 7.2191e-01],\n",
      "        [0.0000e+00, 0.0000e+00, 3.4649e-01, 1.0093e+00, 6.2260e-01, 0.0000e+00,\n",
      "         0.0000e+00, 0.0000e+00],\n",
      "        [0.0000e+00, 0.0000e+00, 3.4649e-01, 1.0093e+00, 6.2260e-01, 0.0000e+00,\n",
      "         0.0000e+00, 0.0000e+00],\n",
      "        [9.5711e-01, 1.4652e+00, 0.0000e+00, 0.0000e+00, 8.1230e-01, 9.1862e-01,\n",
      "         0.0000e+00, 0.0000e+00],\n",
      "        [1.9353e+00, 1.6048e+00, 0.0000e+00, 0.0000e+00, 0.0000e+00, 2.0986e+00,\n",
      "         2.4531e+00, 1.3174e+00],\n",
      "        [6.1562e-01, 0.0000e+00, 9.0805e-01, 0.0000e+00, 0.0000e+00, 6.0938e-01,\n",
      "         1.4962e+00, 1.8144e+00],\n",
      "        [0.0000e+00, 0.0000e+00, 8.6516e-01, 0.0000e+00, 0.0000e+00, 0.0000e+00,\n",
      "         2.1918e-01, 9.4862e-01],\n",
      "        [0.0000e+00, 0.0000e+00, 7.5170e-01, 0.0000e+00, 0.0000e+00, 0.0000e+00,\n",
      "         0.0000e+00, 5.5284e-01],\n",
      "        [0.0000e+00, 0.0000e+00, 3.2644e-01, 9.9761e-01, 6.2450e-01, 0.0000e+00,\n",
      "         0.0000e+00, 0.0000e+00],\n",
      "        [4.7828e-01, 0.0000e+00, 8.0329e-01, 0.0000e+00, 0.0000e+00, 4.8366e-01,\n",
      "         1.2734e+00, 1.5000e+00],\n",
      "        [0.0000e+00, 0.0000e+00, 4.4752e-02, 8.3378e-01, 6.5123e-01, 0.0000e+00,\n",
      "         0.0000e+00, 0.0000e+00],\n",
      "        [0.0000e+00, 0.0000e+00, 3.4649e-01, 1.0093e+00, 6.2260e-01, 0.0000e+00,\n",
      "         0.0000e+00, 0.0000e+00],\n",
      "        [0.0000e+00, 0.0000e+00, 3.4649e-01, 1.0093e+00, 6.2260e-01, 0.0000e+00,\n",
      "         0.0000e+00, 0.0000e+00],\n",
      "        [0.0000e+00, 0.0000e+00, 4.0321e-01, 4.4512e-01, 1.0282e+00, 0.0000e+00,\n",
      "         0.0000e+00, 3.3842e-01],\n",
      "        [2.2022e+00, 2.7564e+00, 0.0000e+00, 0.0000e+00, 9.3582e-01, 2.0962e+00,\n",
      "         2.7560e-03, 3.9908e-02],\n",
      "        [0.0000e+00, 0.0000e+00, 5.2909e-02, 7.0718e-01, 3.8479e-01, 0.0000e+00,\n",
      "         0.0000e+00, 0.0000e+00]], grad_fn=<ReluBackward0>)\n"
     ]
    }
   ],
   "source": [
    "print(f'{out.shape}\\n')\n",
    "\n",
    "print_param_dtype(model)\n",
    "print(out_fp32)"
   ]
  },
  {
   "cell_type": "markdown",
   "id": "c0994d45",
   "metadata": {},
   "source": [
    "### Cast test model into float16 (Half).\n",
    "- Outputs of the model are random, and change every time, even with a set seed. On such small values, the low-precision attribute of float16 bakes in rounding errors through multiple layers; in this case, batch norm, ReLU (removes negative values), linear. This generates different model outputs every run, in contrast to float32. float16 is also not supposed on some CPU kernels -> not an ideal data type in many cases."
   ]
  },
  {
   "cell_type": "code",
   "execution_count": 126,
   "id": "d8b98a4f",
   "metadata": {},
   "outputs": [
    {
     "name": "stdout",
     "output_type": "stream",
     "text": [
      "linear1.weight is loaded in torch.float16\n",
      "linear1.bias is loaded in torch.float16\n",
      "bn1.weight is loaded in torch.float16\n",
      "bn1.bias is loaded in torch.float16\n",
      "linear2.weight is loaded in torch.float16\n",
      "linear2.bias is loaded in torch.float16\n",
      "bn2.weight is loaded in torch.float16\n",
      "bn2.bias is loaded in torch.float16\n",
      "tensor([[0.0000, 0.6367, 0.5112, 0.0000, 0.0000, 0.0000, 0.0000, 0.0000],\n",
      "        [1.5693, 0.0000, 0.0391, 0.8013, 0.9004, 0.8857, 0.0000, 0.9736],\n",
      "        [1.9453, 0.0000, 0.1361, 0.9854, 0.9248, 0.9170, 0.0000, 1.2471],\n",
      "        [0.0000, 0.0000, 0.0000, 0.8779, 0.0000, 0.0000, 0.7202, 0.8691],\n",
      "        [0.4875, 0.1903, 0.9209, 0.0000, 0.0000, 0.0000, 0.0000, 0.0000],\n",
      "        [0.0000, 0.3130, 1.5957, 0.0000, 0.0000, 0.0000, 0.0000, 0.0000],\n",
      "        [0.0000, 0.3521, 0.6440, 0.0000, 0.4270, 0.4973, 1.0674, 0.0000],\n",
      "        [0.0000, 0.3826, 0.2947, 0.0000, 0.5752, 0.6201, 1.1846, 0.0000],\n",
      "        [0.5059, 0.7412, 0.0000, 0.0000, 0.4177, 0.2469, 0.2820, 0.0000],\n",
      "        [0.0000, 0.4407, 1.3018, 0.0000, 0.0000, 0.0000, 0.0000, 0.0000],\n",
      "        [0.0000, 1.0303, 0.0000, 0.0000, 0.2856, 0.1292, 0.7261, 0.0000],\n",
      "        [0.6899, 0.8169, 0.0000, 0.0000, 0.5859, 0.3782, 0.1821, 0.0000],\n",
      "        [1.2402, 0.3501, 0.0000, 0.0000, 0.5449, 0.3650, 0.0000, 0.1799],\n",
      "        [0.1732, 0.0000, 1.6240, 2.1992, 1.5488, 2.0137, 0.9492, 1.8008],\n",
      "        [0.0000, 0.0000, 0.0000, 1.8174, 0.0000, 0.0000, 0.7163, 1.8818],\n",
      "        [0.0094, 1.0908, 0.0000, 0.0000, 0.1807, 0.0000, 0.3623, 0.0000]],\n",
      "       dtype=torch.float16, grad_fn=<ReluBackward0>)\n"
     ]
    }
   ],
   "source": [
    "model_fp16 = TestModel().to(torch.float16) # or TestModel().half()\n",
    "print_param_dtype(model_fp16)\n",
    "out_fp16 = model_fp16(x.to(torch.float16))\n",
    "print(out_fp16)"
   ]
  },
  {
   "cell_type": "markdown",
   "id": "8368f074",
   "metadata": {},
   "source": [
    "### Cast test model into bfloat16.\n",
    "- bfloat16 is stable, unlike float16, and achieves the same outputs after each run with a set seed."
   ]
  },
  {
   "cell_type": "code",
   "execution_count": 127,
   "id": "9042c13e",
   "metadata": {},
   "outputs": [
    {
     "name": "stdout",
     "output_type": "stream",
     "text": [
      "linear1.weight is loaded in torch.bfloat16\n",
      "linear1.bias is loaded in torch.bfloat16\n",
      "bn1.weight is loaded in torch.bfloat16\n",
      "bn1.bias is loaded in torch.bfloat16\n",
      "linear2.weight is loaded in torch.bfloat16\n",
      "linear2.bias is loaded in torch.bfloat16\n",
      "bn2.weight is loaded in torch.bfloat16\n",
      "bn2.bias is loaded in torch.bfloat16\n",
      "tensor([[0.5703, 0.2412, 0.0532, 0.0000, 0.0000, 0.6211, 1.0859, 0.7109],\n",
      "        [0.0000, 0.0000, 0.3457, 1.0000, 0.6211, 0.0000, 0.0000, 0.0000],\n",
      "        [0.0000, 0.0000, 0.3457, 1.0000, 0.6211, 0.0000, 0.0000, 0.0000],\n",
      "        [0.9531, 1.4609, 0.0000, 0.0000, 0.8125, 0.9141, 0.0000, 0.0000],\n",
      "        [1.9375, 1.6172, 0.0000, 0.0000, 0.0000, 2.0938, 2.4531, 1.3125],\n",
      "        [0.6328, 0.0000, 0.9062, 0.0000, 0.0000, 0.6055, 1.5078, 1.8203],\n",
      "        [0.0000, 0.0000, 0.8516, 0.0000, 0.0000, 0.0000, 0.2178, 0.9492],\n",
      "        [0.0000, 0.0000, 0.7578, 0.0000, 0.0000, 0.0000, 0.0000, 0.5469],\n",
      "        [0.0000, 0.0000, 0.3320, 0.9961, 0.6211, 0.0000, 0.0000, 0.0000],\n",
      "        [0.5078, 0.0000, 0.7969, 0.0000, 0.0000, 0.4883, 1.2891, 1.5078],\n",
      "        [0.0000, 0.0000, 0.0466, 0.8281, 0.6523, 0.0000, 0.0000, 0.0000],\n",
      "        [0.0000, 0.0000, 0.3457, 1.0000, 0.6211, 0.0000, 0.0000, 0.0000],\n",
      "        [0.0000, 0.0000, 0.3457, 1.0000, 0.6211, 0.0000, 0.0000, 0.0000],\n",
      "        [0.0000, 0.0000, 0.3867, 0.4434, 1.0312, 0.0000, 0.0000, 0.3262],\n",
      "        [2.2188, 2.7656, 0.0000, 0.0000, 0.9336, 2.0938, 0.0000, 0.0378],\n",
      "        [0.0000, 0.0000, 0.0664, 0.7070, 0.3750, 0.0000, 0.0000, 0.0000]],\n",
      "       dtype=torch.bfloat16, grad_fn=<ReluBackward0>)\n"
     ]
    }
   ],
   "source": [
    "from copy import deepcopy\n",
    "model_bf16 = deepcopy(model)\n",
    "model_bf16 = model_bf16.to(torch.bfloat16)\n",
    "print_param_dtype(model_bf16)\n",
    "out_bf16 = model_bf16(x.to(torch.bfloat16))\n",
    "print(out_bf16)"
   ]
  },
  {
   "cell_type": "markdown",
   "id": "53ac26eb",
   "metadata": {},
   "source": [
    "### Compute output differences between fp32 and bf16"
   ]
  },
  {
   "cell_type": "code",
   "execution_count": 129,
   "id": "95306ef1",
   "metadata": {},
   "outputs": [
    {
     "name": "stdout",
     "output_type": "stream",
     "text": [
      "Mean diff: 0.0030533424578607082 | Max diff: 0.029530048370361328\n"
     ]
    }
   ],
   "source": [
    "mean_diff = torch.abs(out_bf16 - out_fp32).mean().item()\n",
    "max_diff = torch.abs(out_bf16 - out_fp32).max().item()\n",
    "\n",
    "print(f\"Mean diff: {mean_diff} | Max diff: {max_diff}\")"
   ]
  },
  {
   "cell_type": "markdown",
   "id": "17bfd383",
   "metadata": {},
   "source": [
    "### Output logits hold similar values, small differences between the full-precision model and the bf16 model.\n",
    "- Does not lead to a huge performance degradation, even on large models."
   ]
  }
 ],
 "metadata": {
  "kernelspec": {
   "display_name": "Python 3",
   "language": "python",
   "name": "python3"
  },
  "language_info": {
   "codemirror_mode": {
    "name": "ipython",
    "version": 3
   },
   "file_extension": ".py",
   "mimetype": "text/x-python",
   "name": "python",
   "nbconvert_exporter": "python",
   "pygments_lexer": "ipython3",
   "version": "3.10.11"
  }
 },
 "nbformat": 4,
 "nbformat_minor": 5
}
